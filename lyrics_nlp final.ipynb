{
 "cells": [
  {
   "cell_type": "code",
   "execution_count": 1,
   "id": "60f67d26-ffb3-4f75-abb4-d9e490c81431",
   "metadata": {},
   "outputs": [
    {
     "name": "stdout",
     "output_type": "stream",
     "text": [
      "Installed nltk, pandarallel\n"
     ]
    }
   ],
   "source": [
    "!pip install nltk\n",
    "!pip install pandarallel\n",
    "\n",
    "from IPython.display import clear_output\n",
    "clear_output(wait=True)\n",
    "print(\"Installed nltk, pandarallel\")"
   ]
  },
  {
   "cell_type": "code",
   "execution_count": 2,
   "id": "fad426ed-5720-44aa-8565-e9afe42880c1",
   "metadata": {},
   "outputs": [
    {
     "name": "stdout",
     "output_type": "stream",
     "text": [
      "Downloaded popular nltk collections\n"
     ]
    }
   ],
   "source": [
    "import nltk\n",
    "nltk.download('popular', halt_on_error=False)\n",
    "\n",
    "clear_output(wait=True)\n",
    "print(\"Downloaded popular nltk collections\")"
   ]
  },
  {
   "cell_type": "code",
   "execution_count": 3,
   "id": "e351fd26-32c1-41bb-bc8f-89ad004edd1f",
   "metadata": {},
   "outputs": [],
   "source": [
    "import numpy as np\n",
    "import pandas as pd\n",
    "import matplotlib.pyplot as plt\n",
    "import os\n",
    "import seaborn as sns\n",
    "\n",
    "from nltk.corpus import stopwords\n",
    "from nltk.stem.wordnet import WordNetLemmatizer\n",
    "\n",
    "from sklearn.metrics.pairwise import cosine_similarity\n",
    "from sklearn.feature_extraction.text import CountVectorizer\n",
    "\n",
    "import re\n",
    "from re import sub"
   ]
  },
  {
   "cell_type": "code",
   "execution_count": 4,
   "id": "10278969-9b0d-4d0f-9f83-49ad9b3b3767",
   "metadata": {},
   "outputs": [
    {
     "name": "stdout",
     "output_type": "stream",
     "text": [
      "Available CPUs: 16\n"
     ]
    }
   ],
   "source": [
    "from pandarallel import pandarallel\n",
    "import multiprocessing\n",
    "num_processors = multiprocessing.cpu_count()\n",
    "workers = num_processors-1\n",
    "print(f'Available CPUs: {num_processors}')"
   ]
  },
  {
   "cell_type": "code",
   "execution_count": 5,
   "id": "cd1f817b-eece-4c68-9093-f32f02bc3a82",
   "metadata": {},
   "outputs": [],
   "source": [
    "from google.cloud import storage\n",
    "storage_client = storage.Client()\n",
    "bucket = storage_client.get_bucket('12372233_nlp_bucket')\n",
    "blob = bucket.blob('df_nlp2.csv')\n",
    "path = \"gs://12372233_nlp_bucket/data_mining_lyrics/df_nlp2.csv\""
   ]
  },
  {
   "cell_type": "code",
   "execution_count": 6,
   "id": "443e9381-c31c-439b-90bf-df73bf7d9a8a",
   "metadata": {},
   "outputs": [],
   "source": [
    "lyrics = pd.read_csv(path)"
   ]
  },
  {
   "cell_type": "code",
   "execution_count": 7,
   "id": "a76a9380-e2b1-40f0-93bf-dbe9f9f85716",
   "metadata": {},
   "outputs": [
    {
     "data": {
      "text/html": [
       "<div>\n",
       "<style scoped>\n",
       "    .dataframe tbody tr th:only-of-type {\n",
       "        vertical-align: middle;\n",
       "    }\n",
       "\n",
       "    .dataframe tbody tr th {\n",
       "        vertical-align: top;\n",
       "    }\n",
       "\n",
       "    .dataframe thead th {\n",
       "        text-align: right;\n",
       "    }\n",
       "</style>\n",
       "<table border=\"1\" class=\"dataframe\">\n",
       "  <thead>\n",
       "    <tr style=\"text-align: right;\">\n",
       "      <th></th>\n",
       "      <th>Unnamed: 0</th>\n",
       "      <th>Unnamed: 0.1</th>\n",
       "      <th>Unnamed: 0.1.1</th>\n",
       "      <th>track_name</th>\n",
       "      <th>artists</th>\n",
       "      <th>lyrics</th>\n",
       "      <th>language</th>\n",
       "      <th>lyrics_state</th>\n",
       "      <th>Song_id</th>\n",
       "      <th>url</th>\n",
       "      <th>release_date</th>\n",
       "      <th>track_id</th>\n",
       "    </tr>\n",
       "  </thead>\n",
       "  <tbody>\n",
       "    <tr>\n",
       "      <th>0</th>\n",
       "      <td>0</td>\n",
       "      <td>0</td>\n",
       "      <td>2</td>\n",
       "      <td>To Begin Again</td>\n",
       "      <td>Ingrid Michaelson;ZAYN</td>\n",
       "      <td>TranslationsNorsk (bokmål / riksmål)EspañolBos...</td>\n",
       "      <td>en</td>\n",
       "      <td>complete</td>\n",
       "      <td>6597928.0</td>\n",
       "      <td>https://genius.com/Ingrid-michaelson-and-zayn-...</td>\n",
       "      <td>March 17, 2021</td>\n",
       "      <td>1iJBSr7s7jYXzM8EGcbK5b</td>\n",
       "    </tr>\n",
       "    <tr>\n",
       "      <th>1</th>\n",
       "      <td>1</td>\n",
       "      <td>1</td>\n",
       "      <td>3</td>\n",
       "      <td>Can't Help Falling In Love</td>\n",
       "      <td>Kina Grannis</td>\n",
       "      <td>Can’t Help Falling in Love Lyrics[Verse 1]\\nWi...</td>\n",
       "      <td>en</td>\n",
       "      <td>complete</td>\n",
       "      <td>3890906.0</td>\n",
       "      <td>https://genius.com/Kina-grannis-cant-help-fall...</td>\n",
       "      <td>January 13, 2017</td>\n",
       "      <td>6lfxq3CG4xtTiEg7opyCyx</td>\n",
       "    </tr>\n",
       "  </tbody>\n",
       "</table>\n",
       "</div>"
      ],
      "text/plain": [
       "   Unnamed: 0  Unnamed: 0.1  Unnamed: 0.1.1                  track_name  \\\n",
       "0           0             0               2              To Begin Again   \n",
       "1           1             1               3  Can't Help Falling In Love   \n",
       "\n",
       "                  artists                                             lyrics  \\\n",
       "0  Ingrid Michaelson;ZAYN  TranslationsNorsk (bokmål / riksmål)EspañolBos...   \n",
       "1            Kina Grannis  Can’t Help Falling in Love Lyrics[Verse 1]\\nWi...   \n",
       "\n",
       "  language lyrics_state    Song_id  \\\n",
       "0       en     complete  6597928.0   \n",
       "1       en     complete  3890906.0   \n",
       "\n",
       "                                                 url      release_date  \\\n",
       "0  https://genius.com/Ingrid-michaelson-and-zayn-...    March 17, 2021   \n",
       "1  https://genius.com/Kina-grannis-cant-help-fall...  January 13, 2017   \n",
       "\n",
       "                 track_id  \n",
       "0  1iJBSr7s7jYXzM8EGcbK5b  \n",
       "1  6lfxq3CG4xtTiEg7opyCyx  "
      ]
     },
     "execution_count": 7,
     "metadata": {},
     "output_type": "execute_result"
    }
   ],
   "source": [
    "lyrics.head(2)"
   ]
  },
  {
   "cell_type": "code",
   "execution_count": 8,
   "id": "a683694b-c418-41a3-a05a-2a09cfc7dd2e",
   "metadata": {},
   "outputs": [
    {
     "data": {
      "text/plain": [
       "(35015, 12)"
      ]
     },
     "execution_count": 8,
     "metadata": {},
     "output_type": "execute_result"
    }
   ],
   "source": [
    "lyrics.shape"
   ]
  },
  {
   "cell_type": "code",
   "execution_count": 9,
   "id": "f73a0454-41cc-44df-942e-185af103a3b3",
   "metadata": {},
   "outputs": [
    {
     "name": "stdout",
     "output_type": "stream",
     "text": [
      "INFO: Pandarallel will run on 15 workers.\n",
      "INFO: Pandarallel will use standard multiprocessing data transfer (pipe) to transfer data between the main process and workers.\n"
     ]
    }
   ],
   "source": [
    "pandarallel.initialize(nb_workers=num_processors-1, use_memory_fs=False)"
   ]
  },
  {
   "cell_type": "code",
   "execution_count": 10,
   "id": "b5de89d7-8ea2-4afb-a86f-4dfce5cf9efa",
   "metadata": {},
   "outputs": [
    {
     "name": "stdout",
     "output_type": "stream",
     "text": [
      "CPU times: user 1.84 s, sys: 2.65 s, total: 4.49 s\n",
      "Wall time: 5.11 s\n"
     ]
    }
   ],
   "source": [
    "%%time \n",
    "lyrics['clean_lyrics'] = lyrics['lyrics'].parallel_apply(lambda x: sub(r'[\\|\\t\\n\\r]','',x))"
   ]
  },
  {
   "cell_type": "code",
   "execution_count": 11,
   "id": "851ca222-f1ce-424d-a729-522be6846ba9",
   "metadata": {},
   "outputs": [
    {
     "name": "stdout",
     "output_type": "stream",
     "text": [
      "CPU times: user 3.02 s, sys: 3.42 s, total: 6.44 s\n",
      "Wall time: 6.39 s\n"
     ]
    }
   ],
   "source": [
    "%%time \n",
    "lyrics['clean_lyrics'] = lyrics['clean_lyrics'].parallel_apply(lambda x: sub('[\\S ]+ Lyrics','',x, count = 1))"
   ]
  },
  {
   "cell_type": "code",
   "execution_count": 12,
   "id": "58f0e0f1-fab5-43f4-9800-3a81b1d5dc0f",
   "metadata": {},
   "outputs": [
    {
     "name": "stdout",
     "output_type": "stream",
     "text": [
      "CPU times: user 3.4 s, sys: 4.45 s, total: 7.85 s\n",
      "Wall time: 8.83 s\n"
     ]
    }
   ],
   "source": [
    "%%time \n",
    "lyrics['clean_lyrics'] = lyrics['clean_lyrics'].parallel_apply(lambda x: sub('[\\d]*Embed','',x, count = 1))"
   ]
  },
  {
   "cell_type": "code",
   "execution_count": 13,
   "id": "d94ff957-f9f6-491b-be6b-31340b0237e6",
   "metadata": {},
   "outputs": [
    {
     "name": "stdout",
     "output_type": "stream",
     "text": [
      "CPU times: user 2.99 s, sys: 4.6 s, total: 7.59 s\n",
      "Wall time: 7.31 s\n"
     ]
    }
   ],
   "source": [
    "%%time \n",
    "lyrics['clean_lyrics'] = lyrics['clean_lyrics'].parallel_apply(lambda x: sub('\\[Pre\\-Chorus[\\w:& ,]*\\]','',x))"
   ]
  },
  {
   "cell_type": "code",
   "execution_count": 14,
   "id": "ad759a63-1794-445e-bc35-94f52d1547d6",
   "metadata": {},
   "outputs": [
    {
     "name": "stdout",
     "output_type": "stream",
     "text": [
      "CPU times: user 2.85 s, sys: 4.57 s, total: 7.42 s\n",
      "Wall time: 7 s\n"
     ]
    }
   ],
   "source": [
    "%%time \n",
    "lyrics['clean_lyrics'] = lyrics['clean_lyrics'].parallel_apply(lambda x: sub('\\[Chorus[\\w:& ,]*\\]','',x))"
   ]
  },
  {
   "cell_type": "code",
   "execution_count": 15,
   "id": "49537655-6c29-4304-8a5e-7e271cbbeb39",
   "metadata": {},
   "outputs": [
    {
     "name": "stdout",
     "output_type": "stream",
     "text": [
      "CPU times: user 2.99 s, sys: 4.58 s, total: 7.57 s\n",
      "Wall time: 7.22 s\n"
     ]
    }
   ],
   "source": [
    "%%time \n",
    "lyrics['clean_lyrics'] = lyrics['clean_lyrics'].parallel_apply(lambda x: sub('\\[Verse[\\w:& ,]*\\]','',x))"
   ]
  },
  {
   "cell_type": "code",
   "execution_count": 16,
   "id": "16a629c5-60ad-42a0-8a05-92a8141da6e7",
   "metadata": {},
   "outputs": [
    {
     "name": "stdout",
     "output_type": "stream",
     "text": [
      "CPU times: user 2.97 s, sys: 4.49 s, total: 7.45 s\n",
      "Wall time: 7.04 s\n"
     ]
    }
   ],
   "source": [
    "%%time \n",
    "lyrics['clean_lyrics'] = lyrics['clean_lyrics'].parallel_apply(lambda x: sub('\\[Bridge[\\w:& ,]*\\]','',x))"
   ]
  },
  {
   "cell_type": "code",
   "execution_count": 17,
   "id": "199137c0-7dd0-4589-8746-0f56e7346133",
   "metadata": {},
   "outputs": [
    {
     "name": "stdout",
     "output_type": "stream",
     "text": [
      "CPU times: user 2.86 s, sys: 4.62 s, total: 7.48 s\n",
      "Wall time: 7.15 s\n"
     ]
    }
   ],
   "source": [
    "%%time \n",
    "lyrics['clean_lyrics'] = lyrics['clean_lyrics'].parallel_apply(lambda x: sub('\\[Outro[\\w:& ,]*\\]','',x))"
   ]
  },
  {
   "cell_type": "code",
   "execution_count": 18,
   "id": "e6c1bb33-50e5-4b19-9b80-242929b185bc",
   "metadata": {},
   "outputs": [
    {
     "name": "stdout",
     "output_type": "stream",
     "text": [
      "CPU times: user 2.91 s, sys: 4.6 s, total: 7.51 s\n",
      "Wall time: 6.99 s\n"
     ]
    }
   ],
   "source": [
    "%%time \n",
    "lyrics['clean_lyrics'] = lyrics['clean_lyrics'].parallel_apply(lambda x: sub('\\[Intro[\\w:& ,]*\\]','',x))"
   ]
  },
  {
   "cell_type": "code",
   "execution_count": 19,
   "id": "9366f3c2-6ae2-4ff7-9e37-725f98848091",
   "metadata": {},
   "outputs": [
    {
     "name": "stdout",
     "output_type": "stream",
     "text": [
      "CPU times: user 3.32 s, sys: 4.59 s, total: 7.91 s\n",
      "Wall time: 14.9 s\n"
     ]
    }
   ],
   "source": [
    "%%time \n",
    "lyrics['clean_lyrics'] = lyrics['clean_lyrics'].parallel_apply(lambda x: sub(r'\\s+',' ',x))"
   ]
  },
  {
   "cell_type": "code",
   "execution_count": 20,
   "id": "d1642150-3774-4e08-aa54-156c6c242010",
   "metadata": {},
   "outputs": [
    {
     "data": {
      "text/html": [
       "<div>\n",
       "<style scoped>\n",
       "    .dataframe tbody tr th:only-of-type {\n",
       "        vertical-align: middle;\n",
       "    }\n",
       "\n",
       "    .dataframe tbody tr th {\n",
       "        vertical-align: top;\n",
       "    }\n",
       "\n",
       "    .dataframe thead th {\n",
       "        text-align: right;\n",
       "    }\n",
       "</style>\n",
       "<table border=\"1\" class=\"dataframe\">\n",
       "  <thead>\n",
       "    <tr style=\"text-align: right;\">\n",
       "      <th></th>\n",
       "      <th>Unnamed: 0</th>\n",
       "      <th>Unnamed: 0.1</th>\n",
       "      <th>Unnamed: 0.1.1</th>\n",
       "      <th>track_name</th>\n",
       "      <th>artists</th>\n",
       "      <th>lyrics</th>\n",
       "      <th>language</th>\n",
       "      <th>lyrics_state</th>\n",
       "      <th>Song_id</th>\n",
       "      <th>url</th>\n",
       "      <th>release_date</th>\n",
       "      <th>track_id</th>\n",
       "      <th>clean_lyrics</th>\n",
       "    </tr>\n",
       "  </thead>\n",
       "  <tbody>\n",
       "    <tr>\n",
       "      <th>0</th>\n",
       "      <td>0</td>\n",
       "      <td>0</td>\n",
       "      <td>2</td>\n",
       "      <td>To Begin Again</td>\n",
       "      <td>Ingrid Michaelson;ZAYN</td>\n",
       "      <td>TranslationsNorsk (bokmål / riksmål)EspañolBos...</td>\n",
       "      <td>en</td>\n",
       "      <td>complete</td>\n",
       "      <td>6597928.0</td>\n",
       "      <td>https://genius.com/Ingrid-michaelson-and-zayn-...</td>\n",
       "      <td>March 17, 2021</td>\n",
       "      <td>1iJBSr7s7jYXzM8EGcbK5b</td>\n",
       "      <td>When the world was ending, I'd hold you in my ...</td>\n",
       "    </tr>\n",
       "  </tbody>\n",
       "</table>\n",
       "</div>"
      ],
      "text/plain": [
       "   Unnamed: 0  Unnamed: 0.1  Unnamed: 0.1.1      track_name  \\\n",
       "0           0             0               2  To Begin Again   \n",
       "\n",
       "                  artists                                             lyrics  \\\n",
       "0  Ingrid Michaelson;ZAYN  TranslationsNorsk (bokmål / riksmål)EspañolBos...   \n",
       "\n",
       "  language lyrics_state    Song_id  \\\n",
       "0       en     complete  6597928.0   \n",
       "\n",
       "                                                 url    release_date  \\\n",
       "0  https://genius.com/Ingrid-michaelson-and-zayn-...  March 17, 2021   \n",
       "\n",
       "                 track_id                                       clean_lyrics  \n",
       "0  1iJBSr7s7jYXzM8EGcbK5b  When the world was ending, I'd hold you in my ...  "
      ]
     },
     "execution_count": 20,
     "metadata": {},
     "output_type": "execute_result"
    }
   ],
   "source": [
    "lyrics.head(1)"
   ]
  },
  {
   "cell_type": "code",
   "execution_count": 21,
   "id": "95ee087d-1741-4f63-8346-bfd568c8cb58",
   "metadata": {},
   "outputs": [],
   "source": [
    "def tokenize_and_clean(text, stopwords):\n",
    "    \n",
    "    import nltk\n",
    "    import re\n",
    "    \n",
    "    #Tokenize\n",
    "    tokens = nltk.word_tokenize(text)\n",
    "    \n",
    "    # Remove single-character tokens\n",
    "    tokens = [token for token in tokens if len(token) > 1]\n",
    "\n",
    "    # Remove numbers\n",
    "    tokens = [token for token in tokens if not token.isnumeric()]\n",
    "\n",
    "    # Remove punctuation\n",
    "    tokens = [token for token in tokens if token.isalpha()]\n",
    "\n",
    "    # Lowercase all tokens (default_stoptokens are lowercase too)\n",
    "    tokens = [token.lower() for token in tokens]\n",
    "\n",
    "    # Remove stopwords\n",
    "    tokens = [token for token in tokens if token not in stopwords]\n",
    "\n",
    "    # Remove custom stopwords\n",
    "    #tokens = [token for token in tokens if token not in custom_stopwords]\n",
    "\n",
    "   #Lemmatize\n",
    "    wnl = WordNetLemmatizer()\n",
    "    tokens = [wnl.lemmatize(token) for token in tokens]\n",
    "    \n",
    "    clean_text = ' '.join(token for token in tokens)\n",
    "\n",
    "    return clean_text"
   ]
  },
  {
   "cell_type": "code",
   "execution_count": 22,
   "id": "a81dcfac-4fe5-496c-b631-90f97a2f2047",
   "metadata": {},
   "outputs": [
    {
     "name": "stdout",
     "output_type": "stream",
     "text": [
      "CPU times: user 2.67 s, sys: 3.26 s, total: 5.92 s\n",
      "Wall time: 4min 21s\n"
     ]
    }
   ],
   "source": [
    "%%time\n",
    "\n",
    "lyrics['final_lyrics'] = lyrics['clean_lyrics'].parallel_apply(tokenize_and_clean,\n",
    "                                                       stopwords = set(stopwords.words('english')))"
   ]
  },
  {
   "cell_type": "code",
   "execution_count": 23,
   "id": "257d2982-0163-4955-9c9d-1c0e908e7a77",
   "metadata": {},
   "outputs": [
    {
     "data": {
      "text/html": [
       "<div>\n",
       "<style scoped>\n",
       "    .dataframe tbody tr th:only-of-type {\n",
       "        vertical-align: middle;\n",
       "    }\n",
       "\n",
       "    .dataframe tbody tr th {\n",
       "        vertical-align: top;\n",
       "    }\n",
       "\n",
       "    .dataframe thead th {\n",
       "        text-align: right;\n",
       "    }\n",
       "</style>\n",
       "<table border=\"1\" class=\"dataframe\">\n",
       "  <thead>\n",
       "    <tr style=\"text-align: right;\">\n",
       "      <th></th>\n",
       "      <th>Unnamed: 0</th>\n",
       "      <th>Unnamed: 0.1</th>\n",
       "      <th>Unnamed: 0.1.1</th>\n",
       "      <th>track_name</th>\n",
       "      <th>artists</th>\n",
       "      <th>lyrics</th>\n",
       "      <th>language</th>\n",
       "      <th>lyrics_state</th>\n",
       "      <th>Song_id</th>\n",
       "      <th>url</th>\n",
       "      <th>release_date</th>\n",
       "      <th>track_id</th>\n",
       "      <th>clean_lyrics</th>\n",
       "      <th>final_lyrics</th>\n",
       "    </tr>\n",
       "  </thead>\n",
       "  <tbody>\n",
       "    <tr>\n",
       "      <th>0</th>\n",
       "      <td>0</td>\n",
       "      <td>0</td>\n",
       "      <td>2</td>\n",
       "      <td>To Begin Again</td>\n",
       "      <td>Ingrid Michaelson;ZAYN</td>\n",
       "      <td>TranslationsNorsk (bokmål / riksmål)EspañolBos...</td>\n",
       "      <td>en</td>\n",
       "      <td>complete</td>\n",
       "      <td>6597928.0</td>\n",
       "      <td>https://genius.com/Ingrid-michaelson-and-zayn-...</td>\n",
       "      <td>March 17, 2021</td>\n",
       "      <td>1iJBSr7s7jYXzM8EGcbK5b</td>\n",
       "      <td>When the world was ending, I'd hold you in my ...</td>\n",
       "      <td>world ending hold armsand talked place never b...</td>\n",
       "    </tr>\n",
       "    <tr>\n",
       "      <th>1</th>\n",
       "      <td>1</td>\n",
       "      <td>1</td>\n",
       "      <td>3</td>\n",
       "      <td>Can't Help Falling In Love</td>\n",
       "      <td>Kina Grannis</td>\n",
       "      <td>Can’t Help Falling in Love Lyrics[Verse 1]\\nWi...</td>\n",
       "      <td>en</td>\n",
       "      <td>complete</td>\n",
       "      <td>3890906.0</td>\n",
       "      <td>https://genius.com/Kina-grannis-cant-help-fall...</td>\n",
       "      <td>January 13, 2017</td>\n",
       "      <td>6lfxq3CG4xtTiEg7opyCyx</td>\n",
       "      <td>Wise men sayOnly fools rush inBut I can't help...</td>\n",
       "      <td>wise men sayonly fool rush inbut ca help falli...</td>\n",
       "    </tr>\n",
       "    <tr>\n",
       "      <th>2</th>\n",
       "      <td>2</td>\n",
       "      <td>2</td>\n",
       "      <td>4</td>\n",
       "      <td>Hold On</td>\n",
       "      <td>Chord Overstreet</td>\n",
       "      <td>Hold On Lyrics[Verse 1]\\nLoving and fighting\\n...</td>\n",
       "      <td>en</td>\n",
       "      <td>complete</td>\n",
       "      <td>2973448.0</td>\n",
       "      <td>https://genius.com/Chord-overstreet-hold-on-ly...</td>\n",
       "      <td>February 2, 2017</td>\n",
       "      <td>5vjLSffimiIP26QG5WcN2K</td>\n",
       "      <td>Loving and fightingAccusing, denyingI can't im...</td>\n",
       "      <td>loving fightingaccusing denyingi ca imagine wo...</td>\n",
       "    </tr>\n",
       "    <tr>\n",
       "      <th>3</th>\n",
       "      <td>3</td>\n",
       "      <td>3</td>\n",
       "      <td>5</td>\n",
       "      <td>Days I Will Remember</td>\n",
       "      <td>Tyrone Wells</td>\n",
       "      <td>Days I will Remember LyricsThese are the days ...</td>\n",
       "      <td>en</td>\n",
       "      <td>complete</td>\n",
       "      <td>3805340.0</td>\n",
       "      <td>https://genius.com/Tyrone-wells-days-i-will-re...</td>\n",
       "      <td>April 20, 2018</td>\n",
       "      <td>01MVOl9KtVTNfFiBU9I7dc</td>\n",
       "      <td>These are the days I will rememberThese are th...</td>\n",
       "      <td>day rememberthese face need mosteverything cha...</td>\n",
       "    </tr>\n",
       "    <tr>\n",
       "      <th>4</th>\n",
       "      <td>4</td>\n",
       "      <td>4</td>\n",
       "      <td>6</td>\n",
       "      <td>Say Something</td>\n",
       "      <td>A Great Big World;Christina Aguilera</td>\n",
       "      <td>TranslationsPortuguêsSay Something Lyrics[Intr...</td>\n",
       "      <td>en</td>\n",
       "      <td>complete</td>\n",
       "      <td>255826.0</td>\n",
       "      <td>https://genius.com/A-great-big-world-say-somet...</td>\n",
       "      <td>November 4, 2013</td>\n",
       "      <td>6Vc5wAMmXdKIAM7WUoEb7N</td>\n",
       "      <td>Say something, I'm giving up on youI'll be the...</td>\n",
       "      <td>say something giving youi one want toanywhere ...</td>\n",
       "    </tr>\n",
       "  </tbody>\n",
       "</table>\n",
       "</div>"
      ],
      "text/plain": [
       "   Unnamed: 0  Unnamed: 0.1  Unnamed: 0.1.1                  track_name  \\\n",
       "0           0             0               2              To Begin Again   \n",
       "1           1             1               3  Can't Help Falling In Love   \n",
       "2           2             2               4                     Hold On   \n",
       "3           3             3               5        Days I Will Remember   \n",
       "4           4             4               6               Say Something   \n",
       "\n",
       "                                artists  \\\n",
       "0                Ingrid Michaelson;ZAYN   \n",
       "1                          Kina Grannis   \n",
       "2                      Chord Overstreet   \n",
       "3                          Tyrone Wells   \n",
       "4  A Great Big World;Christina Aguilera   \n",
       "\n",
       "                                              lyrics language lyrics_state  \\\n",
       "0  TranslationsNorsk (bokmål / riksmål)EspañolBos...       en     complete   \n",
       "1  Can’t Help Falling in Love Lyrics[Verse 1]\\nWi...       en     complete   \n",
       "2  Hold On Lyrics[Verse 1]\\nLoving and fighting\\n...       en     complete   \n",
       "3  Days I will Remember LyricsThese are the days ...       en     complete   \n",
       "4  TranslationsPortuguêsSay Something Lyrics[Intr...       en     complete   \n",
       "\n",
       "     Song_id                                                url  \\\n",
       "0  6597928.0  https://genius.com/Ingrid-michaelson-and-zayn-...   \n",
       "1  3890906.0  https://genius.com/Kina-grannis-cant-help-fall...   \n",
       "2  2973448.0  https://genius.com/Chord-overstreet-hold-on-ly...   \n",
       "3  3805340.0  https://genius.com/Tyrone-wells-days-i-will-re...   \n",
       "4   255826.0  https://genius.com/A-great-big-world-say-somet...   \n",
       "\n",
       "       release_date                track_id  \\\n",
       "0    March 17, 2021  1iJBSr7s7jYXzM8EGcbK5b   \n",
       "1  January 13, 2017  6lfxq3CG4xtTiEg7opyCyx   \n",
       "2  February 2, 2017  5vjLSffimiIP26QG5WcN2K   \n",
       "3    April 20, 2018  01MVOl9KtVTNfFiBU9I7dc   \n",
       "4  November 4, 2013  6Vc5wAMmXdKIAM7WUoEb7N   \n",
       "\n",
       "                                        clean_lyrics  \\\n",
       "0  When the world was ending, I'd hold you in my ...   \n",
       "1  Wise men sayOnly fools rush inBut I can't help...   \n",
       "2  Loving and fightingAccusing, denyingI can't im...   \n",
       "3  These are the days I will rememberThese are th...   \n",
       "4  Say something, I'm giving up on youI'll be the...   \n",
       "\n",
       "                                        final_lyrics  \n",
       "0  world ending hold armsand talked place never b...  \n",
       "1  wise men sayonly fool rush inbut ca help falli...  \n",
       "2  loving fightingaccusing denyingi ca imagine wo...  \n",
       "3  day rememberthese face need mosteverything cha...  \n",
       "4  say something giving youi one want toanywhere ...  "
      ]
     },
     "execution_count": 23,
     "metadata": {},
     "output_type": "execute_result"
    }
   ],
   "source": [
    "lyrics.head(5)"
   ]
  },
  {
   "cell_type": "markdown",
   "id": "85c6304d-93c0-4325-ad21-1fe6b91ab512",
   "metadata": {},
   "source": [
    "#### Save lyrics df"
   ]
  },
  {
   "cell_type": "code",
   "execution_count": 24,
   "id": "cec4aeb4-c161-4256-b2a6-49ffd3f8fb67",
   "metadata": {},
   "outputs": [],
   "source": [
    "# lyrics.to_csv('gs://12372233_nlp_bucket/data_mining_lyrics/cleaned_lyrics.csv', index=False)"
   ]
  },
  {
   "cell_type": "markdown",
   "id": "9b3ee792-8c0d-422d-b752-0c2add6097be",
   "metadata": {},
   "source": [
    "#### Load lyrics df"
   ]
  },
  {
   "cell_type": "code",
   "execution_count": 25,
   "id": "0a207a62-b682-4af7-b7a9-30cce7d53606",
   "metadata": {},
   "outputs": [],
   "source": [
    "# lyrics = pd.read_csv('gs://12372233_nlp_bucket/data_mining_lyrics/cleaned_lyrics.csv')"
   ]
  },
  {
   "cell_type": "code",
   "execution_count": 26,
   "id": "bb1c9eea-b3ed-4119-8e1c-8437059288ee",
   "metadata": {},
   "outputs": [],
   "source": [
    "from sklearn.metrics.pairwise import cosine_similarity\n",
    "from sklearn.feature_extraction.text import CountVectorizer"
   ]
  },
  {
   "cell_type": "code",
   "execution_count": 27,
   "id": "2c8534a7-c077-48d0-b093-08f73b272bd7",
   "metadata": {},
   "outputs": [
    {
     "name": "stdout",
     "output_type": "stream",
     "text": [
      "CPU times: user 1min 4s, sys: 667 ms, total: 1min 5s\n",
      "Wall time: 1min 5s\n"
     ]
    }
   ],
   "source": [
    "%%time\n",
    "\n",
    "vectorizer_ohe = CountVectorizer(min_df=2).fit_transform(lyrics['final_lyrics'])"
   ]
  },
  {
   "cell_type": "code",
   "execution_count": 28,
   "id": "42c59213-ae0c-4965-9aaf-bd2138fbf5c8",
   "metadata": {},
   "outputs": [
    {
     "name": "stdout",
     "output_type": "stream",
     "text": [
      "CPU times: user 4min 1s, sys: 6.52 s, total: 4min 7s\n",
      "Wall time: 4min 7s\n"
     ]
    }
   ],
   "source": [
    "%%time\n",
    "\n",
    "cosine_similarities_ohe = cosine_similarity(vectorizer_ohe)"
   ]
  },
  {
   "cell_type": "code",
   "execution_count": 29,
   "id": "f5ae89a1-c728-4271-9e5b-2e68316a210d",
   "metadata": {},
   "outputs": [
    {
     "data": {
      "text/plain": [
       "array([[1.        , 0.10241588, 0.08035584, ..., 0.16482442, 0.07740315,\n",
       "        0.01126283],\n",
       "       [0.10241588, 1.        , 0.12968894, ..., 0.00825516, 0.01398757,\n",
       "        0.05020437],\n",
       "       [0.08035584, 0.12968894, 1.        , ..., 0.12898224, 0.03708691,\n",
       "        0.00713104],\n",
       "       [0.14058277, 0.02464361, 0.11201232, ..., 0.10026541, 0.01057093,\n",
       "        0.00813028],\n",
       "       [0.07765689, 0.04326973, 0.06555781, ..., 0.03012376, 0.03402785,\n",
       "        0.01665453]])"
      ]
     },
     "execution_count": 29,
     "metadata": {},
     "output_type": "execute_result"
    }
   ],
   "source": [
    "cosine_similarities_ohe[0:5]"
   ]
  },
  {
   "cell_type": "code",
   "execution_count": 30,
   "id": "8cbda2a0-f97c-4210-93e7-90e2c00bb56d",
   "metadata": {},
   "outputs": [],
   "source": [
    "# storage_client = storage.Client()\n",
    "# bucket = storage_client.get_bucket('12372233_nlp_bucket')\n",
    "# blob = bucket.blob('df_nlp1.csv')\n",
    "# path = \"gs://12372233_nlp_bucket/data_mining_lyrics/df_nlp1.csv\"\n",
    "# lyrics = pd.read_csv(path)"
   ]
  },
  {
   "cell_type": "code",
   "execution_count": 31,
   "id": "af35d65d-881d-476b-a865-050e3ff4d239",
   "metadata": {},
   "outputs": [],
   "source": [
    "# !pip install tensorflow"
   ]
  },
  {
   "cell_type": "code",
   "execution_count": 32,
   "id": "05d303a2-c047-4f96-aa93-3b11ae4777db",
   "metadata": {},
   "outputs": [],
   "source": [
    "# from tensorflow.python.lib.io import file_io"
   ]
  },
  {
   "cell_type": "code",
   "execution_count": 33,
   "id": "e0ba0435-3733-40a2-ace7-643d15253a50",
   "metadata": {},
   "outputs": [],
   "source": [
    "# np.save(file_io.FileIO('gs://12372233_nlp_bucket/data_mining_lyrics/cosine_similarities.npy', 'w'), cosine_similarities_ohe)"
   ]
  },
  {
   "cell_type": "code",
   "execution_count": 34,
   "id": "1e392760-9666-4676-8fbb-547cd6de0dd9",
   "metadata": {},
   "outputs": [],
   "source": [
    "# np.save('gs://12372233_nlp_bucket/data_mining_lyrics/cosine_similarities.npy', cosine_similarities_ohe)    # .npy extension is added if not given"
   ]
  },
  {
   "cell_type": "code",
   "execution_count": null,
   "id": "520a95be-d4e8-4802-98a6-747fd582225a",
   "metadata": {},
   "outputs": [],
   "source": []
  },
  {
   "cell_type": "markdown",
   "id": "e807566d-bc02-4cfc-bb79-b05f9b7fc032",
   "metadata": {},
   "source": [
    "#### Load "
   ]
  },
  {
   "cell_type": "code",
   "execution_count": 35,
   "id": "eb7deeab-ce95-4ba1-a5c8-787970de61bf",
   "metadata": {},
   "outputs": [],
   "source": [
    "# cosine_similarities_ohe_loaded = np.load('gs://12372233_nlp_bucket/data_mining_lyrics/cosine_similarities.npy')"
   ]
  },
  {
   "cell_type": "code",
   "execution_count": 36,
   "id": "eb44c4ec-6fa3-4f1c-8928-9f7f22dbc774",
   "metadata": {},
   "outputs": [],
   "source": [
    "def get_recommendations_ohe(track_id, cosine_similarities=cosine_similarities_ohe):\n",
    "    # Get the index of the track with the given ID\n",
    "    idx = lyrics[lyrics['track_id'] == track_id].index[0]\n",
    "    \n",
    "    # Get the cosine similarities between the given track and all other tracks\n",
    "    sim_scores = list(enumerate(cosine_similarities[idx]))\n",
    "    \n",
    "    # Sort the tracks by their similarity scores\n",
    "    sim_scores = sorted(sim_scores, key=lambda x: x[1], reverse=True)\n",
    "    \n",
    "    # Get the top 10 most similar tracks\n",
    "    sim_scores = sim_scores[0:11]\n",
    "    \n",
    "    # Get the indices and titles of the top 10 most similar tracks\n",
    "    track_indices = [i[0] for i in sim_scores]\n",
    "    track_names = lyrics['track_name'].iloc[track_indices].values\n",
    "    artist_names = lyrics['artists'].iloc[track_indices].values\n",
    "#    track_id = lyrics['track_id'].iloc[track_indices].values\n",
    "#     genre = lyrics['Genre_Combined'].iloc[track_indices].values\n",
    "    \n",
    "    recommendations_df = pd.DataFrame({'track_name': track_names, 'artist': artist_names #, 'genre': genre\n",
    "                                       , 'similarity_score': [i[1] for i in sim_scores]})\n",
    "    \n",
    "    return recommendations_df"
   ]
  },
  {
   "cell_type": "code",
   "execution_count": 37,
   "id": "27da51cb-c60e-42a1-8b69-32bc094835cb",
   "metadata": {},
   "outputs": [
    {
     "data": {
      "text/html": [
       "<div>\n",
       "<style scoped>\n",
       "    .dataframe tbody tr th:only-of-type {\n",
       "        vertical-align: middle;\n",
       "    }\n",
       "\n",
       "    .dataframe tbody tr th {\n",
       "        vertical-align: top;\n",
       "    }\n",
       "\n",
       "    .dataframe thead th {\n",
       "        text-align: right;\n",
       "    }\n",
       "</style>\n",
       "<table border=\"1\" class=\"dataframe\">\n",
       "  <thead>\n",
       "    <tr style=\"text-align: right;\">\n",
       "      <th></th>\n",
       "      <th>track_name</th>\n",
       "      <th>artist</th>\n",
       "      <th>similarity_score</th>\n",
       "    </tr>\n",
       "  </thead>\n",
       "  <tbody>\n",
       "    <tr>\n",
       "      <th>0</th>\n",
       "      <td>To Begin Again</td>\n",
       "      <td>Ingrid Michaelson;ZAYN</td>\n",
       "      <td>1.000000</td>\n",
       "    </tr>\n",
       "    <tr>\n",
       "      <th>1</th>\n",
       "      <td>Our Fragment</td>\n",
       "      <td>Skrux;MISSIO</td>\n",
       "      <td>0.421644</td>\n",
       "    </tr>\n",
       "    <tr>\n",
       "      <th>2</th>\n",
       "      <td>I Don't Know Why</td>\n",
       "      <td>Alison Krauss &amp; Union Station</td>\n",
       "      <td>0.419574</td>\n",
       "    </tr>\n",
       "    <tr>\n",
       "      <th>3</th>\n",
       "      <td>Do You Know? (The Ping Pong Song)</td>\n",
       "      <td>Enrique Iglesias</td>\n",
       "      <td>0.418346</td>\n",
       "    </tr>\n",
       "    <tr>\n",
       "      <th>4</th>\n",
       "      <td>I Know How to Party</td>\n",
       "      <td>The Dollyrots</td>\n",
       "      <td>0.411242</td>\n",
       "    </tr>\n",
       "    <tr>\n",
       "      <th>5</th>\n",
       "      <td>Know Your Darkness</td>\n",
       "      <td>Faderhead</td>\n",
       "      <td>0.409719</td>\n",
       "    </tr>\n",
       "    <tr>\n",
       "      <th>6</th>\n",
       "      <td>I Know You Love Me</td>\n",
       "      <td>Smoking Popes</td>\n",
       "      <td>0.408068</td>\n",
       "    </tr>\n",
       "    <tr>\n",
       "      <th>7</th>\n",
       "      <td>If You Really Love Me (How Will I Know)</td>\n",
       "      <td>David Guetta;MistaJam;John Newman</td>\n",
       "      <td>0.401424</td>\n",
       "    </tr>\n",
       "    <tr>\n",
       "      <th>8</th>\n",
       "      <td>You Should Know</td>\n",
       "      <td>Jor'dan Armstrong</td>\n",
       "      <td>0.396137</td>\n",
       "    </tr>\n",
       "    <tr>\n",
       "      <th>9</th>\n",
       "      <td>Wintertime</td>\n",
       "      <td>Norah Jones</td>\n",
       "      <td>0.394774</td>\n",
       "    </tr>\n",
       "    <tr>\n",
       "      <th>10</th>\n",
       "      <td>You Know You're Right</td>\n",
       "      <td>Nirvana</td>\n",
       "      <td>0.393823</td>\n",
       "    </tr>\n",
       "  </tbody>\n",
       "</table>\n",
       "</div>"
      ],
      "text/plain": [
       "                                 track_name  \\\n",
       "0                            To Begin Again   \n",
       "1                              Our Fragment   \n",
       "2                          I Don't Know Why   \n",
       "3         Do You Know? (The Ping Pong Song)   \n",
       "4                       I Know How to Party   \n",
       "5                        Know Your Darkness   \n",
       "6                        I Know You Love Me   \n",
       "7   If You Really Love Me (How Will I Know)   \n",
       "8                           You Should Know   \n",
       "9                                Wintertime   \n",
       "10                    You Know You're Right   \n",
       "\n",
       "                               artist  similarity_score  \n",
       "0              Ingrid Michaelson;ZAYN          1.000000  \n",
       "1                        Skrux;MISSIO          0.421644  \n",
       "2       Alison Krauss & Union Station          0.419574  \n",
       "3                    Enrique Iglesias          0.418346  \n",
       "4                       The Dollyrots          0.411242  \n",
       "5                           Faderhead          0.409719  \n",
       "6                       Smoking Popes          0.408068  \n",
       "7   David Guetta;MistaJam;John Newman          0.401424  \n",
       "8                   Jor'dan Armstrong          0.396137  \n",
       "9                         Norah Jones          0.394774  \n",
       "10                            Nirvana          0.393823  "
      ]
     },
     "execution_count": 37,
     "metadata": {},
     "output_type": "execute_result"
    }
   ],
   "source": [
    "get_recommendations_ohe('1iJBSr7s7jYXzM8EGcbK5b')"
   ]
  },
  {
   "cell_type": "code",
   "execution_count": 38,
   "id": "daaa718c-402e-45d6-a969-2012b0df1642",
   "metadata": {},
   "outputs": [
    {
     "data": {
      "text/html": [
       "<div>\n",
       "<style scoped>\n",
       "    .dataframe tbody tr th:only-of-type {\n",
       "        vertical-align: middle;\n",
       "    }\n",
       "\n",
       "    .dataframe tbody tr th {\n",
       "        vertical-align: top;\n",
       "    }\n",
       "\n",
       "    .dataframe thead th {\n",
       "        text-align: right;\n",
       "    }\n",
       "</style>\n",
       "<table border=\"1\" class=\"dataframe\">\n",
       "  <thead>\n",
       "    <tr style=\"text-align: right;\">\n",
       "      <th></th>\n",
       "      <th>track_name</th>\n",
       "      <th>artist</th>\n",
       "      <th>similarity_score</th>\n",
       "    </tr>\n",
       "  </thead>\n",
       "  <tbody>\n",
       "    <tr>\n",
       "      <th>0</th>\n",
       "      <td>Can't Help Falling In Love</td>\n",
       "      <td>Kina Grannis</td>\n",
       "      <td>1.000000</td>\n",
       "    </tr>\n",
       "    <tr>\n",
       "      <th>1</th>\n",
       "      <td>Can't Help Falling in Love</td>\n",
       "      <td>Christian Leave</td>\n",
       "      <td>0.920261</td>\n",
       "    </tr>\n",
       "    <tr>\n",
       "      <th>2</th>\n",
       "      <td>(I Can't Help) Falling In Love With You</td>\n",
       "      <td>UB40</td>\n",
       "      <td>0.815948</td>\n",
       "    </tr>\n",
       "    <tr>\n",
       "      <th>3</th>\n",
       "      <td>Can't Help Falling in Love</td>\n",
       "      <td>Elvis Presley</td>\n",
       "      <td>0.659140</td>\n",
       "    </tr>\n",
       "    <tr>\n",
       "      <th>4</th>\n",
       "      <td>Can't Help Falling In Love</td>\n",
       "      <td>Elvis Presley</td>\n",
       "      <td>0.659140</td>\n",
       "    </tr>\n",
       "    <tr>\n",
       "      <th>5</th>\n",
       "      <td>Can't Help Falling In Love - Live At Lake Las ...</td>\n",
       "      <td>Andrea Bocelli</td>\n",
       "      <td>0.642553</td>\n",
       "    </tr>\n",
       "    <tr>\n",
       "      <th>6</th>\n",
       "      <td>I Can't Help</td>\n",
       "      <td>Shoffy;Sarcastic Sounds</td>\n",
       "      <td>0.590009</td>\n",
       "    </tr>\n",
       "    <tr>\n",
       "      <th>7</th>\n",
       "      <td>i can't help it</td>\n",
       "      <td>JVKE</td>\n",
       "      <td>0.586957</td>\n",
       "    </tr>\n",
       "    <tr>\n",
       "      <th>8</th>\n",
       "      <td>Would That Make You Love Me?</td>\n",
       "      <td>SHRK;Shiloh Dynasty</td>\n",
       "      <td>0.562496</td>\n",
       "    </tr>\n",
       "    <tr>\n",
       "      <th>9</th>\n",
       "      <td>Deathcab</td>\n",
       "      <td>Ditty</td>\n",
       "      <td>0.542245</td>\n",
       "    </tr>\n",
       "    <tr>\n",
       "      <th>10</th>\n",
       "      <td>Falling In Love</td>\n",
       "      <td>Phil Wickham</td>\n",
       "      <td>0.539532</td>\n",
       "    </tr>\n",
       "  </tbody>\n",
       "</table>\n",
       "</div>"
      ],
      "text/plain": [
       "                                           track_name  \\\n",
       "0                          Can't Help Falling In Love   \n",
       "1                          Can't Help Falling in Love   \n",
       "2             (I Can't Help) Falling In Love With You   \n",
       "3                          Can't Help Falling in Love   \n",
       "4                          Can't Help Falling In Love   \n",
       "5   Can't Help Falling In Love - Live At Lake Las ...   \n",
       "6                                        I Can't Help   \n",
       "7                                     i can't help it   \n",
       "8                        Would That Make You Love Me?   \n",
       "9                                            Deathcab   \n",
       "10                                    Falling In Love   \n",
       "\n",
       "                     artist  similarity_score  \n",
       "0              Kina Grannis          1.000000  \n",
       "1           Christian Leave          0.920261  \n",
       "2                      UB40          0.815948  \n",
       "3             Elvis Presley          0.659140  \n",
       "4             Elvis Presley          0.659140  \n",
       "5            Andrea Bocelli          0.642553  \n",
       "6   Shoffy;Sarcastic Sounds          0.590009  \n",
       "7                      JVKE          0.586957  \n",
       "8       SHRK;Shiloh Dynasty          0.562496  \n",
       "9                     Ditty          0.542245  \n",
       "10             Phil Wickham          0.539532  "
      ]
     },
     "execution_count": 38,
     "metadata": {},
     "output_type": "execute_result"
    }
   ],
   "source": [
    "get_recommendations_ohe('6lfxq3CG4xtTiEg7opyCyx')"
   ]
  },
  {
   "cell_type": "code",
   "execution_count": 42,
   "id": "2281caaf-275d-4a26-8f5c-7cde565f3395",
   "metadata": {},
   "outputs": [
    {
     "data": {
      "text/html": [
       "<div>\n",
       "<style scoped>\n",
       "    .dataframe tbody tr th:only-of-type {\n",
       "        vertical-align: middle;\n",
       "    }\n",
       "\n",
       "    .dataframe tbody tr th {\n",
       "        vertical-align: top;\n",
       "    }\n",
       "\n",
       "    .dataframe thead th {\n",
       "        text-align: right;\n",
       "    }\n",
       "</style>\n",
       "<table border=\"1\" class=\"dataframe\">\n",
       "  <thead>\n",
       "    <tr style=\"text-align: right;\">\n",
       "      <th></th>\n",
       "      <th>track_name</th>\n",
       "      <th>artist</th>\n",
       "      <th>similarity_score</th>\n",
       "    </tr>\n",
       "  </thead>\n",
       "  <tbody>\n",
       "    <tr>\n",
       "      <th>0</th>\n",
       "      <td>Winter Wonderland</td>\n",
       "      <td>Jason Mraz</td>\n",
       "      <td>1.000000</td>\n",
       "    </tr>\n",
       "    <tr>\n",
       "      <th>1</th>\n",
       "      <td>Winter Wonderland</td>\n",
       "      <td>Dean Martin</td>\n",
       "      <td>0.705559</td>\n",
       "    </tr>\n",
       "    <tr>\n",
       "      <th>2</th>\n",
       "      <td>Winter Wonderland</td>\n",
       "      <td>The Platters</td>\n",
       "      <td>0.663316</td>\n",
       "    </tr>\n",
       "    <tr>\n",
       "      <th>3</th>\n",
       "      <td>Winter Wonderland - Single Version</td>\n",
       "      <td>Louis Armstrong</td>\n",
       "      <td>0.654383</td>\n",
       "    </tr>\n",
       "    <tr>\n",
       "      <th>4</th>\n",
       "      <td>Winter Wonderland</td>\n",
       "      <td>Tony Bennett</td>\n",
       "      <td>0.639710</td>\n",
       "    </tr>\n",
       "    <tr>\n",
       "      <th>5</th>\n",
       "      <td>Winter Wonderland</td>\n",
       "      <td>Ella Fitzgerald</td>\n",
       "      <td>0.639265</td>\n",
       "    </tr>\n",
       "    <tr>\n",
       "      <th>6</th>\n",
       "      <td>Winter Wonderland</td>\n",
       "      <td>Rod Stewart;Michael Bublé</td>\n",
       "      <td>0.637411</td>\n",
       "    </tr>\n",
       "    <tr>\n",
       "      <th>7</th>\n",
       "      <td>Winter Wonderland</td>\n",
       "      <td>Tony Bennett;Lady Gaga</td>\n",
       "      <td>0.621628</td>\n",
       "    </tr>\n",
       "    <tr>\n",
       "      <th>8</th>\n",
       "      <td>Winter Wonderland</td>\n",
       "      <td>Sugarland</td>\n",
       "      <td>0.594362</td>\n",
       "    </tr>\n",
       "    <tr>\n",
       "      <th>9</th>\n",
       "      <td>Walking Away</td>\n",
       "      <td>Craig David</td>\n",
       "      <td>0.325065</td>\n",
       "    </tr>\n",
       "    <tr>\n",
       "      <th>10</th>\n",
       "      <td>There She Goes</td>\n",
       "      <td>Carl Smith</td>\n",
       "      <td>0.310704</td>\n",
       "    </tr>\n",
       "  </tbody>\n",
       "</table>\n",
       "</div>"
      ],
      "text/plain": [
       "                            track_name                     artist  \\\n",
       "0                    Winter Wonderland                 Jason Mraz   \n",
       "1                    Winter Wonderland                Dean Martin   \n",
       "2                    Winter Wonderland               The Platters   \n",
       "3   Winter Wonderland - Single Version            Louis Armstrong   \n",
       "4                    Winter Wonderland               Tony Bennett   \n",
       "5                    Winter Wonderland            Ella Fitzgerald   \n",
       "6                    Winter Wonderland  Rod Stewart;Michael Bublé   \n",
       "7                    Winter Wonderland     Tony Bennett;Lady Gaga   \n",
       "8                    Winter Wonderland                  Sugarland   \n",
       "9                         Walking Away                Craig David   \n",
       "10                      There She Goes                 Carl Smith   \n",
       "\n",
       "    similarity_score  \n",
       "0           1.000000  \n",
       "1           0.705559  \n",
       "2           0.663316  \n",
       "3           0.654383  \n",
       "4           0.639710  \n",
       "5           0.639265  \n",
       "6           0.637411  \n",
       "7           0.621628  \n",
       "8           0.594362  \n",
       "9           0.325065  \n",
       "10          0.310704  "
      ]
     },
     "execution_count": 42,
     "metadata": {},
     "output_type": "execute_result"
    }
   ],
   "source": [
    "get_recommendations_ohe('5IfCZDRXZrqZSm8AwE44PG')"
   ]
  },
  {
   "cell_type": "code",
   "execution_count": 40,
   "id": "d16997d9-f90b-493e-a6cb-bd3aa837c801",
   "metadata": {},
   "outputs": [
    {
     "data": {
      "text/html": [
       "<div>\n",
       "<style scoped>\n",
       "    .dataframe tbody tr th:only-of-type {\n",
       "        vertical-align: middle;\n",
       "    }\n",
       "\n",
       "    .dataframe tbody tr th {\n",
       "        vertical-align: top;\n",
       "    }\n",
       "\n",
       "    .dataframe thead th {\n",
       "        text-align: right;\n",
       "    }\n",
       "</style>\n",
       "<table border=\"1\" class=\"dataframe\">\n",
       "  <thead>\n",
       "    <tr style=\"text-align: right;\">\n",
       "      <th></th>\n",
       "      <th>track_name</th>\n",
       "      <th>artist</th>\n",
       "      <th>similarity_score</th>\n",
       "    </tr>\n",
       "  </thead>\n",
       "  <tbody>\n",
       "    <tr>\n",
       "      <th>0</th>\n",
       "      <td>Hold On</td>\n",
       "      <td>Chord Overstreet</td>\n",
       "      <td>1.000000</td>\n",
       "    </tr>\n",
       "    <tr>\n",
       "      <th>1</th>\n",
       "      <td>Hold On - Acoustic</td>\n",
       "      <td>Chord Overstreet</td>\n",
       "      <td>0.991189</td>\n",
       "    </tr>\n",
       "    <tr>\n",
       "      <th>2</th>\n",
       "      <td>Hold On - Remix</td>\n",
       "      <td>Chord Overstreet;Deepend</td>\n",
       "      <td>0.861057</td>\n",
       "    </tr>\n",
       "    <tr>\n",
       "      <th>3</th>\n",
       "      <td>You Make Me Feel</td>\n",
       "      <td>Bonfire</td>\n",
       "      <td>0.469058</td>\n",
       "    </tr>\n",
       "    <tr>\n",
       "      <th>4</th>\n",
       "      <td>Is There Still Anything That Love Can Do? (Eng...</td>\n",
       "      <td>RADWIMPS</td>\n",
       "      <td>0.466439</td>\n",
       "    </tr>\n",
       "    <tr>\n",
       "      <th>5</th>\n",
       "      <td>Still In Love</td>\n",
       "      <td>GhostDragon;YERINMYWAY;Nate Mitchell</td>\n",
       "      <td>0.442861</td>\n",
       "    </tr>\n",
       "    <tr>\n",
       "      <th>6</th>\n",
       "      <td>Ferrari - Oliver Heldens Remix</td>\n",
       "      <td>James Hype;Miggy Dela Rosa;Oliver Heldens</td>\n",
       "      <td>0.442293</td>\n",
       "    </tr>\n",
       "    <tr>\n",
       "      <th>7</th>\n",
       "      <td>Ferrari</td>\n",
       "      <td>James Hype;Miggy Dela Rosa</td>\n",
       "      <td>0.440875</td>\n",
       "    </tr>\n",
       "    <tr>\n",
       "      <th>8</th>\n",
       "      <td>Ammunition</td>\n",
       "      <td>Krewella</td>\n",
       "      <td>0.439720</td>\n",
       "    </tr>\n",
       "    <tr>\n",
       "      <th>9</th>\n",
       "      <td>Damaged</td>\n",
       "      <td>yetep;KLAXX;GLNNA</td>\n",
       "      <td>0.438088</td>\n",
       "    </tr>\n",
       "    <tr>\n",
       "      <th>10</th>\n",
       "      <td>I'm Still Waiting</td>\n",
       "      <td>Delroy Wilson</td>\n",
       "      <td>0.416303</td>\n",
       "    </tr>\n",
       "  </tbody>\n",
       "</table>\n",
       "</div>"
      ],
      "text/plain": [
       "                                           track_name  \\\n",
       "0                                             Hold On   \n",
       "1                                  Hold On - Acoustic   \n",
       "2                                     Hold On - Remix   \n",
       "3                                    You Make Me Feel   \n",
       "4   Is There Still Anything That Love Can Do? (Eng...   \n",
       "5                                       Still In Love   \n",
       "6                      Ferrari - Oliver Heldens Remix   \n",
       "7                                             Ferrari   \n",
       "8                                          Ammunition   \n",
       "9                                             Damaged   \n",
       "10                                  I'm Still Waiting   \n",
       "\n",
       "                                       artist  similarity_score  \n",
       "0                            Chord Overstreet          1.000000  \n",
       "1                            Chord Overstreet          0.991189  \n",
       "2                    Chord Overstreet;Deepend          0.861057  \n",
       "3                                     Bonfire          0.469058  \n",
       "4                                    RADWIMPS          0.466439  \n",
       "5        GhostDragon;YERINMYWAY;Nate Mitchell          0.442861  \n",
       "6   James Hype;Miggy Dela Rosa;Oliver Heldens          0.442293  \n",
       "7                  James Hype;Miggy Dela Rosa          0.440875  \n",
       "8                                    Krewella          0.439720  \n",
       "9                           yetep;KLAXX;GLNNA          0.438088  \n",
       "10                              Delroy Wilson          0.416303  "
      ]
     },
     "execution_count": 40,
     "metadata": {},
     "output_type": "execute_result"
    }
   ],
   "source": [
    "get_recommendations_ohe('5vjLSffimiIP26QG5WcN2K')"
   ]
  },
  {
   "cell_type": "code",
   "execution_count": 41,
   "id": "c91329f4-b700-48a2-9268-ba742653f45b",
   "metadata": {},
   "outputs": [
    {
     "data": {
      "text/html": [
       "<div>\n",
       "<style scoped>\n",
       "    .dataframe tbody tr th:only-of-type {\n",
       "        vertical-align: middle;\n",
       "    }\n",
       "\n",
       "    .dataframe tbody tr th {\n",
       "        vertical-align: top;\n",
       "    }\n",
       "\n",
       "    .dataframe thead th {\n",
       "        text-align: right;\n",
       "    }\n",
       "</style>\n",
       "<table border=\"1\" class=\"dataframe\">\n",
       "  <thead>\n",
       "    <tr style=\"text-align: right;\">\n",
       "      <th></th>\n",
       "      <th>track_name</th>\n",
       "      <th>artist</th>\n",
       "      <th>similarity_score</th>\n",
       "    </tr>\n",
       "  </thead>\n",
       "  <tbody>\n",
       "    <tr>\n",
       "      <th>0</th>\n",
       "      <td>Say Something</td>\n",
       "      <td>A Great Big World;Christina Aguilera</td>\n",
       "      <td>1.000000</td>\n",
       "    </tr>\n",
       "    <tr>\n",
       "      <th>1</th>\n",
       "      <td>Say Something</td>\n",
       "      <td>A Great Big World</td>\n",
       "      <td>1.000000</td>\n",
       "    </tr>\n",
       "    <tr>\n",
       "      <th>2</th>\n",
       "      <td>I'm into Something Good</td>\n",
       "      <td>Herman's Hermits</td>\n",
       "      <td>0.492249</td>\n",
       "    </tr>\n",
       "    <tr>\n",
       "      <th>3</th>\n",
       "      <td>Here</td>\n",
       "      <td>CASTLEBEAT</td>\n",
       "      <td>0.454346</td>\n",
       "    </tr>\n",
       "    <tr>\n",
       "      <th>4</th>\n",
       "      <td>Yoü And I</td>\n",
       "      <td>Ben Platt</td>\n",
       "      <td>0.453767</td>\n",
       "    </tr>\n",
       "    <tr>\n",
       "      <th>5</th>\n",
       "      <td>Sandy Kim</td>\n",
       "      <td>Acid Ghost</td>\n",
       "      <td>0.415180</td>\n",
       "    </tr>\n",
       "    <tr>\n",
       "      <th>6</th>\n",
       "      <td>UMPH</td>\n",
       "      <td>Retroj</td>\n",
       "      <td>0.403774</td>\n",
       "    </tr>\n",
       "    <tr>\n",
       "      <th>7</th>\n",
       "      <td>Perspective</td>\n",
       "      <td>Jorin Williams</td>\n",
       "      <td>0.403774</td>\n",
       "    </tr>\n",
       "    <tr>\n",
       "      <th>8</th>\n",
       "      <td>Wish</td>\n",
       "      <td>Nine Inch Nails</td>\n",
       "      <td>0.397947</td>\n",
       "    </tr>\n",
       "    <tr>\n",
       "      <th>9</th>\n",
       "      <td>Transcend</td>\n",
       "      <td>Fit For A King</td>\n",
       "      <td>0.397891</td>\n",
       "    </tr>\n",
       "    <tr>\n",
       "      <th>10</th>\n",
       "      <td>Sutra</td>\n",
       "      <td>Gostosa</td>\n",
       "      <td>0.393656</td>\n",
       "    </tr>\n",
       "  </tbody>\n",
       "</table>\n",
       "</div>"
      ],
      "text/plain": [
       "                 track_name                                artist  \\\n",
       "0             Say Something  A Great Big World;Christina Aguilera   \n",
       "1             Say Something                     A Great Big World   \n",
       "2   I'm into Something Good                      Herman's Hermits   \n",
       "3                      Here                            CASTLEBEAT   \n",
       "4                 Yoü And I                             Ben Platt   \n",
       "5                 Sandy Kim                            Acid Ghost   \n",
       "6                      UMPH                                Retroj   \n",
       "7               Perspective                        Jorin Williams   \n",
       "8                      Wish                       Nine Inch Nails   \n",
       "9                 Transcend                        Fit For A King   \n",
       "10                    Sutra                               Gostosa   \n",
       "\n",
       "    similarity_score  \n",
       "0           1.000000  \n",
       "1           1.000000  \n",
       "2           0.492249  \n",
       "3           0.454346  \n",
       "4           0.453767  \n",
       "5           0.415180  \n",
       "6           0.403774  \n",
       "7           0.403774  \n",
       "8           0.397947  \n",
       "9           0.397891  \n",
       "10          0.393656  "
      ]
     },
     "execution_count": 41,
     "metadata": {},
     "output_type": "execute_result"
    }
   ],
   "source": [
    "get_recommendations_ohe('6Vc5wAMmXdKIAM7WUoEb7N')"
   ]
  },
  {
   "cell_type": "code",
   "execution_count": null,
   "id": "dfaadc50-5e76-4940-8944-b0bedf59837d",
   "metadata": {},
   "outputs": [],
   "source": []
  }
 ],
 "metadata": {
  "kernelspec": {
   "display_name": "Python (Local)",
   "language": "python",
   "name": "local-base"
  },
  "language_info": {
   "codemirror_mode": {
    "name": "ipython",
    "version": 3
   },
   "file_extension": ".py",
   "mimetype": "text/x-python",
   "name": "python",
   "nbconvert_exporter": "python",
   "pygments_lexer": "ipython3",
   "version": "3.7.12"
  }
 },
 "nbformat": 4,
 "nbformat_minor": 5
}
